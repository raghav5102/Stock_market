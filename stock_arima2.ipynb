{
 "cells": [
  {
   "cell_type": "code",
   "execution_count": 1,
   "metadata": {},
   "outputs": [
    {
     "name": "stdout",
     "output_type": "stream",
     "text": [
      "Requirement already satisfied: pmdarima in c:\\users\\ragha\\anaconda3\\lib\\site-packages (1.8.2)\n",
      "Requirement already satisfied: pandas>=0.19 in c:\\users\\ragha\\anaconda3\\lib\\site-packages (from pmdarima) (1.1.3)\n",
      "Requirement already satisfied: Cython!=0.29.18,>=0.29 in c:\\users\\ragha\\anaconda3\\lib\\site-packages (from pmdarima) (0.29.21)\n",
      "Requirement already satisfied: scipy>=1.3.2 in c:\\users\\ragha\\anaconda3\\lib\\site-packages (from pmdarima) (1.5.2)\n",
      "Requirement already satisfied: numpy~=1.19.0 in c:\\users\\ragha\\anaconda3\\lib\\site-packages (from pmdarima) (1.19.5)\n",
      "Requirement already satisfied: setuptools!=50.0.0,>=38.6.0 in c:\\users\\ragha\\anaconda3\\lib\\site-packages (from pmdarima) (53.0.0)\n",
      "Requirement already satisfied: statsmodels!=0.12.0,>=0.11 in c:\\users\\ragha\\anaconda3\\lib\\site-packages (from pmdarima) (0.12.2)\n",
      "Requirement already satisfied: scikit-learn>=0.22 in c:\\users\\ragha\\anaconda3\\lib\\site-packages (from pmdarima) (0.23.2)\n",
      "Requirement already satisfied: joblib>=0.11 in c:\\users\\ragha\\anaconda3\\lib\\site-packages (from pmdarima) (0.17.0)\n",
      "Requirement already satisfied: urllib3 in c:\\users\\ragha\\anaconda3\\lib\\site-packages (from pmdarima) (1.26.3)\n",
      "Requirement already satisfied: python-dateutil>=2.7.3 in c:\\users\\ragha\\anaconda3\\lib\\site-packages (from pandas>=0.19->pmdarima) (2.8.1)\n",
      "Requirement already satisfied: pytz>=2017.2 in c:\\users\\ragha\\anaconda3\\lib\\site-packages (from pandas>=0.19->pmdarima) (2020.1)\n",
      "Requirement already satisfied: patsy>=0.5 in c:\\users\\ragha\\anaconda3\\lib\\site-packages (from statsmodels!=0.12.0,>=0.11->pmdarima) (0.5.1)\n",
      "Requirement already satisfied: threadpoolctl>=2.0.0 in c:\\users\\ragha\\anaconda3\\lib\\site-packages (from scikit-learn>=0.22->pmdarima) (2.1.0)\n",
      "Requirement already satisfied: six>=1.5 in c:\\users\\ragha\\anaconda3\\lib\\site-packages (from python-dateutil>=2.7.3->pandas>=0.19->pmdarima) (1.15.0)\n"
     ]
    }
   ],
   "source": [
    "!pip install pmdarima --user"
   ]
  },
  {
   "cell_type": "code",
   "execution_count": 82,
   "metadata": {},
   "outputs": [],
   "source": [
    "from pmdarima import auto_arima\n",
    "import warnings\n",
    "warnings.filterwarnings(\"ignore\")\n",
    "import pandas as pd\n",
    "import numpy as np\n",
    "import math"
   ]
  },
  {
   "cell_type": "code",
   "execution_count": 83,
   "metadata": {},
   "outputs": [
    {
     "data": {
      "text/html": [
       "<div>\n",
       "<style scoped>\n",
       "    .dataframe tbody tr th:only-of-type {\n",
       "        vertical-align: middle;\n",
       "    }\n",
       "\n",
       "    .dataframe tbody tr th {\n",
       "        vertical-align: top;\n",
       "    }\n",
       "\n",
       "    .dataframe thead th {\n",
       "        text-align: right;\n",
       "    }\n",
       "</style>\n",
       "<table border=\"1\" class=\"dataframe\">\n",
       "  <thead>\n",
       "    <tr style=\"text-align: right;\">\n",
       "      <th></th>\n",
       "      <th>Date</th>\n",
       "      <th>Open</th>\n",
       "      <th>High</th>\n",
       "      <th>Low</th>\n",
       "      <th>Close</th>\n",
       "      <th>Adj Close</th>\n",
       "      <th>Volume</th>\n",
       "    </tr>\n",
       "  </thead>\n",
       "  <tbody>\n",
       "    <tr>\n",
       "      <th>0</th>\n",
       "      <td>2000-01-03</td>\n",
       "      <td>36.747459</td>\n",
       "      <td>38.944569</td>\n",
       "      <td>36.747459</td>\n",
       "      <td>38.944569</td>\n",
       "      <td>29.869350</td>\n",
       "      <td>28802010.0</td>\n",
       "    </tr>\n",
       "    <tr>\n",
       "      <th>1</th>\n",
       "      <td>2000-01-04</td>\n",
       "      <td>39.981236</td>\n",
       "      <td>42.062302</td>\n",
       "      <td>38.882679</td>\n",
       "      <td>42.062302</td>\n",
       "      <td>32.260563</td>\n",
       "      <td>61320457.0</td>\n",
       "    </tr>\n",
       "    <tr>\n",
       "      <th>2</th>\n",
       "      <td>2000-01-05</td>\n",
       "      <td>39.710464</td>\n",
       "      <td>44.545658</td>\n",
       "      <td>39.710464</td>\n",
       "      <td>43.710136</td>\n",
       "      <td>33.524399</td>\n",
       "      <td>173426953.0</td>\n",
       "    </tr>\n",
       "    <tr>\n",
       "      <th>3</th>\n",
       "      <td>2000-01-06</td>\n",
       "      <td>44.715855</td>\n",
       "      <td>46.526150</td>\n",
       "      <td>44.715855</td>\n",
       "      <td>45.543640</td>\n",
       "      <td>34.930637</td>\n",
       "      <td>101355113.0</td>\n",
       "    </tr>\n",
       "    <tr>\n",
       "      <th>4</th>\n",
       "      <td>2000-01-07</td>\n",
       "      <td>45.644211</td>\n",
       "      <td>49.187443</td>\n",
       "      <td>45.334759</td>\n",
       "      <td>48.669109</td>\n",
       "      <td>37.327774</td>\n",
       "      <td>128426756.0</td>\n",
       "    </tr>\n",
       "  </tbody>\n",
       "</table>\n",
       "</div>"
      ],
      "text/plain": [
       "        Date       Open       High        Low      Close  Adj Close  \\\n",
       "0 2000-01-03  36.747459  38.944569  36.747459  38.944569  29.869350   \n",
       "1 2000-01-04  39.981236  42.062302  38.882679  42.062302  32.260563   \n",
       "2 2000-01-05  39.710464  44.545658  39.710464  43.710136  33.524399   \n",
       "3 2000-01-06  44.715855  46.526150  44.715855  45.543640  34.930637   \n",
       "4 2000-01-07  45.644211  49.187443  45.334759  48.669109  37.327774   \n",
       "\n",
       "        Volume  \n",
       "0   28802010.0  \n",
       "1   61320457.0  \n",
       "2  173426953.0  \n",
       "3  101355113.0  \n",
       "4  128426756.0  "
      ]
     },
     "execution_count": 83,
     "metadata": {},
     "output_type": "execute_result"
    }
   ],
   "source": [
    "df = pd.read_csv('RELIANCE.NS.csv',parse_dates = ['Date'] )\n",
    "df.head()"
   ]
  },
  {
   "cell_type": "code",
   "execution_count": 84,
   "metadata": {},
   "outputs": [],
   "source": [
    "df = df.fillna(method = 'pad')"
   ]
  },
  {
   "cell_type": "code",
   "execution_count": 85,
   "metadata": {},
   "outputs": [],
   "source": [
    "import matplotlib.pyplot as plt"
   ]
  },
  {
   "cell_type": "code",
   "execution_count": 86,
   "metadata": {},
   "outputs": [
    {
     "data": {
      "text/plain": [
       "<matplotlib.legend.Legend at 0x19901bda5b0>"
      ]
     },
     "execution_count": 86,
     "metadata": {},
     "output_type": "execute_result"
    },
    {
     "data": {
      "image/png": "[encoded data removed]",
      "text/plain": [
       "<Figure size 432x288 with 1 Axes>"
      ]
     },
     "metadata": {
      "needs_background": "light"
     },
     "output_type": "display_data"
    }
   ],
   "source": [
    "plt.figure()\n",
    "plt.plot(df['Close'])\n",
    "plt.legend(['Close Price'])"
   ]
  },
  {
   "cell_type": "code",
   "execution_count": 87,
   "metadata": {},
   "outputs": [],
   "source": [
    "from statsmodels.tsa.stattools import adfuller"
   ]
  },
  {
   "cell_type": "code",
   "execution_count": 88,
   "metadata": {},
   "outputs": [],
   "source": [
    "def adfuller_test(sales):\n",
    "    result=adfuller(sales)\n",
    "    labels = ['ADF Test Statistic','p-value','#Lags Used','Number of Observations Used']\n",
    "    for value,label in zip(result,labels):\n",
    "        print(label+' : '+str(value) )\n",
    "    if result[1] <= 0.05:\n",
    "        print(\"strong evidence against the null hypothesis(Ho), reject the null hypothesis. Data has no unit root and is stationary\")\n",
    "    else:\n",
    "        print(\"weak evidence against null hypothesis, time series has a unit root, indicating it is non-stationary \")"
   ]
  },
  {
   "cell_type": "code",
   "execution_count": 89,
   "metadata": {},
   "outputs": [
    {
     "name": "stdout",
     "output_type": "stream",
     "text": [
      "ADF Test Statistic : 1.1971957095670949\n",
      "p-value : 0.9959664507917603\n",
      "#Lags Used : 33\n",
      "Number of Observations Used : 5324\n",
      "weak evidence against null hypothesis, time series has a unit root, indicating it is non-stationary \n"
     ]
    }
   ],
   "source": [
    "adfuller_test(df['Close'])"
   ]
  },
  {
   "cell_type": "code",
   "execution_count": 90,
   "metadata": {},
   "outputs": [],
   "source": [
    "df['first_closediff'] = df['Close'] - df['Close'].shift(1)"
   ]
  },
  {
   "cell_type": "code",
   "execution_count": 91,
   "metadata": {},
   "outputs": [],
   "source": [
    "df = df.fillna(0)"
   ]
  },
  {
   "cell_type": "code",
   "execution_count": 92,
   "metadata": {},
   "outputs": [
    {
     "name": "stdout",
     "output_type": "stream",
     "text": [
      "ADF Test Statistic : -11.690212093877594\n",
      "p-value : 1.6596808908616589e-21\n",
      "#Lags Used : 33\n",
      "Number of Observations Used : 5324\n",
      "strong evidence against the null hypothesis(Ho), reject the null hypothesis. Data has no unit root and is stationary\n"
     ]
    }
   ],
   "source": [
    "adfuller_test(df['first_closediff'])"
   ]
  },
  {
   "cell_type": "code",
   "execution_count": 93,
   "metadata": {},
   "outputs": [
    {
     "data": {
      "text/plain": [
       "<matplotlib.legend.Legend at 0x19901690610>"
      ]
     },
     "execution_count": 93,
     "metadata": {},
     "output_type": "execute_result"
    },
    {
     "data": {
      "image/png": "[encoded data removed]",
      "text/plain": [
       "<Figure size 432x288 with 1 Axes>"
      ]
     },
     "metadata": {
      "needs_background": "light"
     },
     "output_type": "display_data"
    }
   ],
   "source": [
    "plt.figure()\n",
    "plt.plot(df['first_closediff'])\n",
    "plt.legend(['first_closediff'])"
   ]
  },
  {
   "cell_type": "code",
   "execution_count": 94,
   "metadata": {},
   "outputs": [],
   "source": [
    "from statsmodels.graphics.tsaplots import plot_acf,plot_pacf"
   ]
  },
  {
   "cell_type": "code",
   "execution_count": 95,
   "metadata": {},
   "outputs": [
    {
     "data": {
      "image/png": "[encoded data removed]",
      "text/plain": [
       "<Figure size 864x576 with 2 Axes>"
      ]
     },
     "metadata": {
      "needs_background": "light"
     },
     "output_type": "display_data"
    }
   ],
   "source": [
    "fig = plt.figure(figsize=(12,8))\n",
    "ax1 = fig.add_subplot(211)\n",
    "fig = plot_acf(df['first_closediff'],lags=40,ax=ax1)\n",
    "ax2 = fig.add_subplot(212)\n",
    "fig = plot_pacf(df['first_closediff'],lags=40,ax=ax2)"
   ]
  },
  {
   "cell_type": "code",
   "execution_count": 96,
   "metadata": {},
   "outputs": [
    {
     "name": "stdout",
     "output_type": "stream",
     "text": [
      "Performing stepwise search to minimize aic\n",
      " ARIMA(2,1,2)(0,0,0)[0] intercept   : AIC=43618.581, Time=4.56 sec\n",
      " ARIMA(0,1,0)(0,0,0)[0] intercept   : AIC=43635.434, Time=0.08 sec\n",
      " ARIMA(1,1,0)(0,0,0)[0] intercept   : AIC=43637.417, Time=0.18 sec\n",
      " ARIMA(0,1,1)(0,0,0)[0] intercept   : AIC=43637.419, Time=0.23 sec\n",
      " ARIMA(0,1,0)(0,0,0)[0]             : AIC=43637.344, Time=0.07 sec\n",
      " ARIMA(1,1,2)(0,0,0)[0] intercept   : AIC=43638.790, Time=1.43 sec\n",
      " ARIMA(2,1,1)(0,0,0)[0] intercept   : AIC=43639.107, Time=3.06 sec\n",
      " ARIMA(3,1,2)(0,0,0)[0] intercept   : AIC=43632.039, Time=2.16 sec\n",
      " ARIMA(2,1,3)(0,0,0)[0] intercept   : AIC=43631.450, Time=3.52 sec\n",
      " ARIMA(1,1,1)(0,0,0)[0] intercept   : AIC=43639.420, Time=0.28 sec\n",
      " ARIMA(1,1,3)(0,0,0)[0] intercept   : AIC=43631.942, Time=2.52 sec\n",
      " ARIMA(3,1,1)(0,0,0)[0] intercept   : AIC=43632.257, Time=1.67 sec\n",
      " ARIMA(3,1,3)(0,0,0)[0] intercept   : AIC=inf, Time=9.38 sec\n",
      " ARIMA(2,1,2)(0,0,0)[0]             : AIC=43620.421, Time=2.54 sec\n",
      "\n",
      "Best model:  ARIMA(2,1,2)(0,0,0)[0] intercept\n",
      "Total fit time: 31.667 seconds\n"
     ]
    },
    {
     "data": {
      "text/html": [
       "<table class=\"simpletable\">\n",
       "<caption>SARIMAX Results</caption>\n",
       "<tr>\n",
       "  <th>Dep. Variable:</th>           <td>y</td>        <th>  No. Observations:  </th>    <td>5358</td>   \n",
       "</tr>\n",
       "<tr>\n",
       "  <th>Model:</th>           <td>SARIMAX(2, 1, 2)</td> <th>  Log Likelihood     </th> <td>-21803.290</td>\n",
       "</tr>\n",
       "<tr>\n",
       "  <th>Date:</th>            <td>Mon, 07 Jun 2021</td> <th>  AIC                </th>  <td>43618.581</td>\n",
       "</tr>\n",
       "<tr>\n",
       "  <th>Time:</th>                <td>18:39:25</td>     <th>  BIC                </th>  <td>43658.098</td>\n",
       "</tr>\n",
       "<tr>\n",
       "  <th>Sample:</th>                  <td>0</td>        <th>  HQIC               </th>  <td>43632.383</td>\n",
       "</tr>\n",
       "<tr>\n",
       "  <th></th>                      <td> - 5358</td>     <th>                     </th>      <td> </td>    \n",
       "</tr>\n",
       "<tr>\n",
       "  <th>Covariance Type:</th>        <td>opg</td>       <th>                     </th>      <td> </td>    \n",
       "</tr>\n",
       "</table>\n",
       "<table class=\"simpletable\">\n",
       "<tr>\n",
       "      <td></td>         <th>coef</th>     <th>std err</th>      <th>z</th>      <th>P>|z|</th>  <th>[0.025</th>    <th>0.975]</th>  \n",
       "</tr>\n",
       "<tr>\n",
       "  <th>intercept</th> <td>    0.8708</td> <td>    0.448</td> <td>    1.943</td> <td> 0.052</td> <td>   -0.008</td> <td>    1.749</td>\n",
       "</tr>\n",
       "<tr>\n",
       "  <th>ar.L1</th>     <td>   -0.3460</td> <td>    0.016</td> <td>  -22.051</td> <td> 0.000</td> <td>   -0.377</td> <td>   -0.315</td>\n",
       "</tr>\n",
       "<tr>\n",
       "  <th>ar.L2</th>     <td>   -0.9164</td> <td>    0.015</td> <td>  -60.921</td> <td> 0.000</td> <td>   -0.946</td> <td>   -0.887</td>\n",
       "</tr>\n",
       "<tr>\n",
       "  <th>ma.L1</th>     <td>    0.3466</td> <td>    0.013</td> <td>   25.769</td> <td> 0.000</td> <td>    0.320</td> <td>    0.373</td>\n",
       "</tr>\n",
       "<tr>\n",
       "  <th>ma.L2</th>     <td>    0.9435</td> <td>    0.013</td> <td>   72.632</td> <td> 0.000</td> <td>    0.918</td> <td>    0.969</td>\n",
       "</tr>\n",
       "<tr>\n",
       "  <th>sigma2</th>    <td>  200.7797</td> <td>    1.044</td> <td>  192.374</td> <td> 0.000</td> <td>  198.734</td> <td>  202.825</td>\n",
       "</tr>\n",
       "</table>\n",
       "<table class=\"simpletable\">\n",
       "<tr>\n",
       "  <th>Ljung-Box (L1) (Q):</th>     <td>0.03</td>  <th>  Jarque-Bera (JB):  </th> <td>161210.03</td>\n",
       "</tr>\n",
       "<tr>\n",
       "  <th>Prob(Q):</th>                <td>0.87</td>  <th>  Prob(JB):          </th>   <td>0.00</td>   \n",
       "</tr>\n",
       "<tr>\n",
       "  <th>Heteroskedasticity (H):</th> <td>24.22</td> <th>  Skew:              </th>   <td>0.37</td>   \n",
       "</tr>\n",
       "<tr>\n",
       "  <th>Prob(H) (two-sided):</th>    <td>0.00</td>  <th>  Kurtosis:          </th>   <td>29.86</td>  \n",
       "</tr>\n",
       "</table><br/><br/>Warnings:<br/>[1] Covariance matrix calculated using the outer product of gradients (complex-step)."
      ],
      "text/plain": [
       "<class 'statsmodels.iolib.summary.Summary'>\n",
       "\"\"\"\n",
       "                               SARIMAX Results                                \n",
       "==============================================================================\n",
       "Dep. Variable:                      y   No. Observations:                 5358\n",
       "Model:               SARIMAX(2, 1, 2)   Log Likelihood              -21803.290\n",
       "Date:                Mon, 07 Jun 2021   AIC                          43618.581\n",
       "Time:                        18:39:25   BIC                          43658.098\n",
       "Sample:                             0   HQIC                         43632.383\n",
       "                               - 5358                                         \n",
       "Covariance Type:                  opg                                         \n",
       "==============================================================================\n",
       "                 coef    std err          z      P>|z|      [0.025      0.975]\n",
       "------------------------------------------------------------------------------\n",
       "intercept      0.8708      0.448      1.943      0.052      -0.008       1.749\n",
       "ar.L1         -0.3460      0.016    -22.051      0.000      -0.377      -0.315\n",
       "ar.L2         -0.9164      0.015    -60.921      0.000      -0.946      -0.887\n",
       "ma.L1          0.3466      0.013     25.769      0.000       0.320       0.373\n",
       "ma.L2          0.9435      0.013     72.632      0.000       0.918       0.969\n",
       "sigma2       200.7797      1.044    192.374      0.000     198.734     202.825\n",
       "===================================================================================\n",
       "Ljung-Box (L1) (Q):                   0.03   Jarque-Bera (JB):            161210.03\n",
       "Prob(Q):                              0.87   Prob(JB):                         0.00\n",
       "Heteroskedasticity (H):              24.22   Skew:                             0.37\n",
       "Prob(H) (two-sided):                  0.00   Kurtosis:                        29.86\n",
       "===================================================================================\n",
       "\n",
       "Warnings:\n",
       "[1] Covariance matrix calculated using the outer product of gradients (complex-step).\n",
       "\"\"\""
      ]
     },
     "execution_count": 96,
     "metadata": {},
     "output_type": "execute_result"
    }
   ],
   "source": [
    "stepwise_fit = auto_arima(df['Close'], trace=True,suppress_warnings=True)\n",
    "stepwise_fit.summary()"
   ]
  },
  {
   "cell_type": "code",
   "execution_count": 60,
   "metadata": {},
   "outputs": [],
   "source": [
    "from statsmodels.tsa.arima_model import ARIMA"
   ]
  },
  {
   "cell_type": "code",
   "execution_count": 97,
   "metadata": {},
   "outputs": [
    {
     "data": {
      "text/html": [
       "<div>\n",
       "<style scoped>\n",
       "    .dataframe tbody tr th:only-of-type {\n",
       "        vertical-align: middle;\n",
       "    }\n",
       "\n",
       "    .dataframe tbody tr th {\n",
       "        vertical-align: top;\n",
       "    }\n",
       "\n",
       "    .dataframe thead th {\n",
       "        text-align: right;\n",
       "    }\n",
       "</style>\n",
       "<table border=\"1\" class=\"dataframe\">\n",
       "  <thead>\n",
       "    <tr style=\"text-align: right;\">\n",
       "      <th></th>\n",
       "      <th>Date</th>\n",
       "      <th>Open</th>\n",
       "      <th>High</th>\n",
       "      <th>Low</th>\n",
       "      <th>Close</th>\n",
       "      <th>Adj Close</th>\n",
       "      <th>Volume</th>\n",
       "      <th>first_closediff</th>\n",
       "    </tr>\n",
       "  </thead>\n",
       "  <tbody>\n",
       "    <tr>\n",
       "      <th>4760</th>\n",
       "      <td>2018-12-24</td>\n",
       "      <td>1090.562500</td>\n",
       "      <td>1092.840942</td>\n",
       "      <td>1076.347290</td>\n",
       "      <td>1078.922852</td>\n",
       "      <td>1068.967163</td>\n",
       "      <td>4183821.0</td>\n",
       "      <td>-10.946289</td>\n",
       "    </tr>\n",
       "    <tr>\n",
       "      <th>4761</th>\n",
       "      <td>2018-12-26</td>\n",
       "      <td>1075.604370</td>\n",
       "      <td>1089.671021</td>\n",
       "      <td>1055.643555</td>\n",
       "      <td>1088.036499</td>\n",
       "      <td>1077.996582</td>\n",
       "      <td>7278403.0</td>\n",
       "      <td>9.113647</td>\n",
       "    </tr>\n",
       "    <tr>\n",
       "      <th>4762</th>\n",
       "      <td>2018-12-27</td>\n",
       "      <td>1096.803345</td>\n",
       "      <td>1116.417480</td>\n",
       "      <td>1093.633423</td>\n",
       "      <td>1109.681274</td>\n",
       "      <td>1099.441772</td>\n",
       "      <td>12596278.0</td>\n",
       "      <td>21.644775</td>\n",
       "    </tr>\n",
       "    <tr>\n",
       "      <th>4763</th>\n",
       "      <td>2018-12-28</td>\n",
       "      <td>1114.931519</td>\n",
       "      <td>1124.589966</td>\n",
       "      <td>1110.671997</td>\n",
       "      <td>1114.981079</td>\n",
       "      <td>1104.692627</td>\n",
       "      <td>7738682.0</td>\n",
       "      <td>5.299805</td>\n",
       "    </tr>\n",
       "    <tr>\n",
       "      <th>4764</th>\n",
       "      <td>2018-12-31</td>\n",
       "      <td>1120.330444</td>\n",
       "      <td>1123.203125</td>\n",
       "      <td>1105.718872</td>\n",
       "      <td>1110.721436</td>\n",
       "      <td>1100.472290</td>\n",
       "      <td>7291282.0</td>\n",
       "      <td>-4.259643</td>\n",
       "    </tr>\n",
       "  </tbody>\n",
       "</table>\n",
       "</div>"
      ],
      "text/plain": [
       "           Date         Open         High          Low        Close  \\\n",
       "4760 2018-12-24  1090.562500  1092.840942  1076.347290  1078.922852   \n",
       "4761 2018-12-26  1075.604370  1089.671021  1055.643555  1088.036499   \n",
       "4762 2018-12-27  1096.803345  1116.417480  1093.633423  1109.681274   \n",
       "4763 2018-12-28  1114.931519  1124.589966  1110.671997  1114.981079   \n",
       "4764 2018-12-31  1120.330444  1123.203125  1105.718872  1110.721436   \n",
       "\n",
       "        Adj Close      Volume  first_closediff  \n",
       "4760  1068.967163   4183821.0       -10.946289  \n",
       "4761  1077.996582   7278403.0         9.113647  \n",
       "4762  1099.441772  12596278.0        21.644775  \n",
       "4763  1104.692627   7738682.0         5.299805  \n",
       "4764  1100.472290   7291282.0        -4.259643  "
      ]
     },
     "execution_count": 97,
     "metadata": {},
     "output_type": "execute_result"
    }
   ],
   "source": [
    "train_data = df[0:4765]\n",
    "train_data.tail()"
   ]
  },
  {
   "cell_type": "code",
   "execution_count": 98,
   "metadata": {},
   "outputs": [
    {
     "data": {
      "text/html": [
       "<div>\n",
       "<style scoped>\n",
       "    .dataframe tbody tr th:only-of-type {\n",
       "        vertical-align: middle;\n",
       "    }\n",
       "\n",
       "    .dataframe tbody tr th {\n",
       "        vertical-align: top;\n",
       "    }\n",
       "\n",
       "    .dataframe thead th {\n",
       "        text-align: right;\n",
       "    }\n",
       "</style>\n",
       "<table border=\"1\" class=\"dataframe\">\n",
       "  <thead>\n",
       "    <tr style=\"text-align: right;\">\n",
       "      <th></th>\n",
       "      <th>Date</th>\n",
       "      <th>Open</th>\n",
       "      <th>High</th>\n",
       "      <th>Low</th>\n",
       "      <th>Close</th>\n",
       "      <th>Adj Close</th>\n",
       "      <th>Volume</th>\n",
       "      <th>first_closediff</th>\n",
       "    </tr>\n",
       "  </thead>\n",
       "  <tbody>\n",
       "    <tr>\n",
       "      <th>4765</th>\n",
       "      <td>2019-01-01</td>\n",
       "      <td>1114.683960</td>\n",
       "      <td>1116.714722</td>\n",
       "      <td>1099.676147</td>\n",
       "      <td>1110.473877</td>\n",
       "      <td>1100.226929</td>\n",
       "      <td>4498087.0</td>\n",
       "      <td>-0.247559</td>\n",
       "    </tr>\n",
       "    <tr>\n",
       "      <th>4766</th>\n",
       "      <td>2019-01-02</td>\n",
       "      <td>1104.034912</td>\n",
       "      <td>1116.417480</td>\n",
       "      <td>1090.661621</td>\n",
       "      <td>1096.010864</td>\n",
       "      <td>1085.897461</td>\n",
       "      <td>7212697.0</td>\n",
       "      <td>-14.463013</td>\n",
       "    </tr>\n",
       "    <tr>\n",
       "      <th>4767</th>\n",
       "      <td>2019-01-03</td>\n",
       "      <td>1097.100586</td>\n",
       "      <td>1104.133911</td>\n",
       "      <td>1079.864014</td>\n",
       "      <td>1082.489136</td>\n",
       "      <td>1072.500488</td>\n",
       "      <td>7517041.0</td>\n",
       "      <td>-13.521728</td>\n",
       "    </tr>\n",
       "    <tr>\n",
       "      <th>4768</th>\n",
       "      <td>2019-01-04</td>\n",
       "      <td>1087.095459</td>\n",
       "      <td>1094.079224</td>\n",
       "      <td>1070.948486</td>\n",
       "      <td>1088.333740</td>\n",
       "      <td>1078.291138</td>\n",
       "      <td>8545382.0</td>\n",
       "      <td>5.844604</td>\n",
       "    </tr>\n",
       "    <tr>\n",
       "      <th>4769</th>\n",
       "      <td>2019-01-07</td>\n",
       "      <td>1096.605225</td>\n",
       "      <td>1107.947754</td>\n",
       "      <td>1090.661621</td>\n",
       "      <td>1094.376465</td>\n",
       "      <td>1084.278076</td>\n",
       "      <td>5565822.0</td>\n",
       "      <td>6.042725</td>\n",
       "    </tr>\n",
       "  </tbody>\n",
       "</table>\n",
       "</div>"
      ],
      "text/plain": [
       "           Date         Open         High          Low        Close  \\\n",
       "4765 2019-01-01  1114.683960  1116.714722  1099.676147  1110.473877   \n",
       "4766 2019-01-02  1104.034912  1116.417480  1090.661621  1096.010864   \n",
       "4767 2019-01-03  1097.100586  1104.133911  1079.864014  1082.489136   \n",
       "4768 2019-01-04  1087.095459  1094.079224  1070.948486  1088.333740   \n",
       "4769 2019-01-07  1096.605225  1107.947754  1090.661621  1094.376465   \n",
       "\n",
       "        Adj Close     Volume  first_closediff  \n",
       "4765  1100.226929  4498087.0        -0.247559  \n",
       "4766  1085.897461  7212697.0       -14.463013  \n",
       "4767  1072.500488  7517041.0       -13.521728  \n",
       "4768  1078.291138  8545382.0         5.844604  \n",
       "4769  1084.278076  5565822.0         6.042725  "
      ]
     },
     "execution_count": 98,
     "metadata": {},
     "output_type": "execute_result"
    }
   ],
   "source": [
    "test_data = df[4765:5358 ]\n",
    "test_data.head()"
   ]
  },
  {
   "cell_type": "code",
   "execution_count": 101,
   "metadata": {},
   "outputs": [
    {
     "data": {
      "text/html": [
       "<table class=\"simpletable\">\n",
       "<caption>ARIMA Model Results</caption>\n",
       "<tr>\n",
       "  <th>Dep. Variable:</th>      <td>D.Close</td>     <th>  No. Observations:  </th>    <td>4764</td>   \n",
       "</tr>\n",
       "<tr>\n",
       "  <th>Model:</th>          <td>ARIMA(2, 1, 2)</td>  <th>  Log Likelihood     </th> <td>-17224.869</td>\n",
       "</tr>\n",
       "<tr>\n",
       "  <th>Method:</th>             <td>css-mle</td>     <th>  S.D. of innovations</th>    <td>8.995</td>  \n",
       "</tr>\n",
       "<tr>\n",
       "  <th>Date:</th>          <td>Mon, 07 Jun 2021</td> <th>  AIC                </th>  <td>34461.737</td>\n",
       "</tr>\n",
       "<tr>\n",
       "  <th>Time:</th>              <td>18:40:40</td>     <th>  BIC                </th>  <td>34500.551</td>\n",
       "</tr>\n",
       "<tr>\n",
       "  <th>Sample:</th>                <td>1</td>        <th>  HQIC               </th>  <td>34475.374</td>\n",
       "</tr>\n",
       "<tr>\n",
       "  <th></th>                       <td> </td>        <th>                     </th>      <td> </td>    \n",
       "</tr>\n",
       "</table>\n",
       "<table class=\"simpletable\">\n",
       "<tr>\n",
       "        <td></td>           <th>coef</th>     <th>std err</th>      <th>z</th>      <th>P>|z|</th>  <th>[0.025</th>    <th>0.975]</th>  \n",
       "</tr>\n",
       "<tr>\n",
       "  <th>const</th>         <td>    0.2251</td> <td>    0.116</td> <td>    1.945</td> <td> 0.052</td> <td>   -0.002</td> <td>    0.452</td>\n",
       "</tr>\n",
       "<tr>\n",
       "  <th>ar.L1.D.Close</th> <td>    1.6665</td> <td>    0.044</td> <td>   38.124</td> <td> 0.000</td> <td>    1.581</td> <td>    1.752</td>\n",
       "</tr>\n",
       "<tr>\n",
       "  <th>ar.L2.D.Close</th> <td>   -0.8747</td> <td>    0.034</td> <td>  -25.354</td> <td> 0.000</td> <td>   -0.942</td> <td>   -0.807</td>\n",
       "</tr>\n",
       "<tr>\n",
       "  <th>ma.L1.D.Close</th> <td>   -1.6601</td> <td>    0.051</td> <td>  -32.806</td> <td> 0.000</td> <td>   -1.759</td> <td>   -1.561</td>\n",
       "</tr>\n",
       "<tr>\n",
       "  <th>ma.L2.D.Close</th> <td>    0.8449</td> <td>    0.042</td> <td>   20.095</td> <td> 0.000</td> <td>    0.763</td> <td>    0.927</td>\n",
       "</tr>\n",
       "</table>\n",
       "<table class=\"simpletable\">\n",
       "<caption>Roots</caption>\n",
       "<tr>\n",
       "    <td></td>   <th>            Real</th>  <th>         Imaginary</th> <th>         Modulus</th>  <th>        Frequency</th>\n",
       "</tr>\n",
       "<tr>\n",
       "  <th>AR.1</th> <td>           0.9526</td> <td>          -0.4856j</td> <td>           1.0692</td> <td>          -0.0750</td>\n",
       "</tr>\n",
       "<tr>\n",
       "  <th>AR.2</th> <td>           0.9526</td> <td>          +0.4856j</td> <td>           1.0692</td> <td>           0.0750</td>\n",
       "</tr>\n",
       "<tr>\n",
       "  <th>MA.1</th> <td>           0.9824</td> <td>          -0.4674j</td> <td>           1.0879</td> <td>          -0.0707</td>\n",
       "</tr>\n",
       "<tr>\n",
       "  <th>MA.2</th> <td>           0.9824</td> <td>          +0.4674j</td> <td>           1.0879</td> <td>           0.0707</td>\n",
       "</tr>\n",
       "</table>"
      ],
      "text/plain": [
       "<class 'statsmodels.iolib.summary.Summary'>\n",
       "\"\"\"\n",
       "                             ARIMA Model Results                              \n",
       "==============================================================================\n",
       "Dep. Variable:                D.Close   No. Observations:                 4764\n",
       "Model:                 ARIMA(2, 1, 2)   Log Likelihood              -17224.869\n",
       "Method:                       css-mle   S.D. of innovations              8.995\n",
       "Date:                Mon, 07 Jun 2021   AIC                          34461.737\n",
       "Time:                        18:40:40   BIC                          34500.551\n",
       "Sample:                             1   HQIC                         34475.374\n",
       "                                                                              \n",
       "=================================================================================\n",
       "                    coef    std err          z      P>|z|      [0.025      0.975]\n",
       "---------------------------------------------------------------------------------\n",
       "const             0.2251      0.116      1.945      0.052      -0.002       0.452\n",
       "ar.L1.D.Close     1.6665      0.044     38.124      0.000       1.581       1.752\n",
       "ar.L2.D.Close    -0.8747      0.034    -25.354      0.000      -0.942      -0.807\n",
       "ma.L1.D.Close    -1.6601      0.051    -32.806      0.000      -1.759      -1.561\n",
       "ma.L2.D.Close     0.8449      0.042     20.095      0.000       0.763       0.927\n",
       "                                    Roots                                    \n",
       "=============================================================================\n",
       "                  Real          Imaginary           Modulus         Frequency\n",
       "-----------------------------------------------------------------------------\n",
       "AR.1            0.9526           -0.4856j            1.0692           -0.0750\n",
       "AR.2            0.9526           +0.4856j            1.0692            0.0750\n",
       "MA.1            0.9824           -0.4674j            1.0879           -0.0707\n",
       "MA.2            0.9824           +0.4674j            1.0879            0.0707\n",
       "-----------------------------------------------------------------------------\n",
       "\"\"\""
      ]
     },
     "execution_count": 101,
     "metadata": {},
     "output_type": "execute_result"
    }
   ],
   "source": [
    "model=ARIMA(train_data['Close'],order=(2,1,2))\n",
    "model=model.fit()\n",
    "model.summary()"
   ]
  },
  {
   "cell_type": "code",
   "execution_count": 99,
   "metadata": {},
   "outputs": [
    {
     "data": {
      "text/html": [
       "<div>\n",
       "<style scoped>\n",
       "    .dataframe tbody tr th:only-of-type {\n",
       "        vertical-align: middle;\n",
       "    }\n",
       "\n",
       "    .dataframe tbody tr th {\n",
       "        vertical-align: top;\n",
       "    }\n",
       "\n",
       "    .dataframe thead th {\n",
       "        text-align: right;\n",
       "    }\n",
       "</style>\n",
       "<table border=\"1\" class=\"dataframe\">\n",
       "  <thead>\n",
       "    <tr style=\"text-align: right;\">\n",
       "      <th></th>\n",
       "      <th>Date</th>\n",
       "      <th>Open</th>\n",
       "      <th>High</th>\n",
       "      <th>Low</th>\n",
       "      <th>Close</th>\n",
       "      <th>Adj Close</th>\n",
       "      <th>Volume</th>\n",
       "      <th>first_closediff</th>\n",
       "    </tr>\n",
       "  </thead>\n",
       "  <tbody>\n",
       "    <tr>\n",
       "      <th>5353</th>\n",
       "      <td>2021-05-24</td>\n",
       "      <td>2008.000000</td>\n",
       "      <td>2009.800049</td>\n",
       "      <td>1982.000000</td>\n",
       "      <td>1985.650024</td>\n",
       "      <td>1985.650024</td>\n",
       "      <td>3946636.0</td>\n",
       "      <td>-16.900025</td>\n",
       "    </tr>\n",
       "    <tr>\n",
       "      <th>5354</th>\n",
       "      <td>2021-05-25</td>\n",
       "      <td>1996.400024</td>\n",
       "      <td>1997.000000</td>\n",
       "      <td>1960.000000</td>\n",
       "      <td>1963.150024</td>\n",
       "      <td>1963.150024</td>\n",
       "      <td>6821015.0</td>\n",
       "      <td>-22.500000</td>\n",
       "    </tr>\n",
       "    <tr>\n",
       "      <th>5355</th>\n",
       "      <td>2021-05-26</td>\n",
       "      <td>1975.000000</td>\n",
       "      <td>1979.500000</td>\n",
       "      <td>1965.300049</td>\n",
       "      <td>1970.050049</td>\n",
       "      <td>1970.050049</td>\n",
       "      <td>3452113.0</td>\n",
       "      <td>6.900025</td>\n",
       "    </tr>\n",
       "    <tr>\n",
       "      <th>5356</th>\n",
       "      <td>2021-05-27</td>\n",
       "      <td>1970.300049</td>\n",
       "      <td>1993.000000</td>\n",
       "      <td>1962.250000</td>\n",
       "      <td>1976.099976</td>\n",
       "      <td>1976.099976</td>\n",
       "      <td>12377100.0</td>\n",
       "      <td>6.049927</td>\n",
       "    </tr>\n",
       "    <tr>\n",
       "      <th>5357</th>\n",
       "      <td>2021-05-28</td>\n",
       "      <td>1990.000000</td>\n",
       "      <td>2105.000000</td>\n",
       "      <td>1990.000000</td>\n",
       "      <td>2094.800049</td>\n",
       "      <td>2094.800049</td>\n",
       "      <td>26060864.0</td>\n",
       "      <td>118.700073</td>\n",
       "    </tr>\n",
       "  </tbody>\n",
       "</table>\n",
       "</div>"
      ],
      "text/plain": [
       "           Date         Open         High          Low        Close  \\\n",
       "5353 2021-05-24  2008.000000  2009.800049  1982.000000  1985.650024   \n",
       "5354 2021-05-25  1996.400024  1997.000000  1960.000000  1963.150024   \n",
       "5355 2021-05-26  1975.000000  1979.500000  1965.300049  1970.050049   \n",
       "5356 2021-05-27  1970.300049  1993.000000  1962.250000  1976.099976   \n",
       "5357 2021-05-28  1990.000000  2105.000000  1990.000000  2094.800049   \n",
       "\n",
       "        Adj Close      Volume  first_closediff  \n",
       "5353  1985.650024   3946636.0       -16.900025  \n",
       "5354  1963.150024   6821015.0       -22.500000  \n",
       "5355  1970.050049   3452113.0         6.900025  \n",
       "5356  1976.099976  12377100.0         6.049927  \n",
       "5357  2094.800049  26060864.0       118.700073  "
      ]
     },
     "execution_count": 99,
     "metadata": {},
     "output_type": "execute_result"
    }
   ],
   "source": [
    "test_data.tail()"
   ]
  },
  {
   "cell_type": "code",
   "execution_count": 36,
   "metadata": {},
   "outputs": [
    {
     "data": {
      "text/plain": [
       "4765"
      ]
     },
     "execution_count": 36,
     "metadata": {},
     "output_type": "execute_result"
    }
   ],
   "source": [
    "start = "
   ]
  },
  {
   "cell_type": "code",
   "execution_count": 37,
   "metadata": {},
   "outputs": [
    {
     "data": {
      "text/plain": [
       "5357"
      ]
     },
     "execution_count": 37,
     "metadata": {},
     "output_type": "execute_result"
    }
   ],
   "source": [
    "end"
   ]
  },
  {
   "cell_type": "code",
   "execution_count": 102,
   "metadata": {},
   "outputs": [],
   "source": [
    "pred=model.predict(start=4765,end=5357,typ='levels').rename('ARIMA Predictions')\n"
   ]
  },
  {
   "cell_type": "code",
   "execution_count": 103,
   "metadata": {},
   "outputs": [
    {
     "data": {
      "text/plain": [
       "<AxesSubplot:>"
      ]
     },
     "execution_count": 103,
     "metadata": {},
     "output_type": "execute_result"
    },
    {
     "data": {
      "image/png": "[encoded data removed]",
      "text/plain": [
       "<Figure size 432x288 with 1 Axes>"
      ]
     },
     "metadata": {
      "needs_background": "light"
     },
     "output_type": "display_data"
    }
   ],
   "source": [
    "pred.plot(legend=True)\n",
    "test_data['Close'].plot(legend=True)"
   ]
  },
  {
   "cell_type": "code",
   "execution_count": 104,
   "metadata": {},
   "outputs": [
    {
     "name": "stdout",
     "output_type": "stream",
     "text": [
      "543.7895697811986\n"
     ]
    }
   ],
   "source": [
    "from sklearn.metrics import mean_squared_error\n",
    "from math import sqrt\n",
    "test_data['Close'].mean()\n",
    "rmse=sqrt(mean_squared_error(pred,test_data['Close']))\n",
    "print(rmse)"
   ]
  },
  {
   "cell_type": "code",
   "execution_count": null,
   "metadata": {},
   "outputs": [],
   "source": []
  }
 ],
 "metadata": {
  "kernelspec": {
   "display_name": "Python 3",
   "language": "python",
   "name": "python3"
  },
  "language_info": {
   "codemirror_mode": {
    "name": "ipython",
    "version": 3
   },
   "file_extension": ".py",
   "mimetype": "text/x-python",
   "name": "python",
   "nbconvert_exporter": "python",
   "pygments_lexer": "ipython3",
   "version": "3.8.5"
  }
 },
 "nbformat": 4,
 "nbformat_minor": 4
}
